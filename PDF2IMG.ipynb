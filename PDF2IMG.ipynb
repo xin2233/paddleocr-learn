{
 "cells": [
  {
   "cell_type": "code",
   "execution_count": null,
   "id": "86bca73e-98ab-4480-a832-b1ee6a554da7",
   "metadata": {},
   "outputs": [],
   "source": [
    "import sys \n",
    "sys.path.append('/home/aistudio/external-libraries')\n",
    "import fitz\n",
    "from os import path,makedirs\n",
    "import datetime\n",
    "\n",
    "\n",
    "\n",
    "class pdf2img:\n",
    "    def pyMuPDF_fitz(self,pdfPath):\n",
    "        self.imagePath = ''\n",
    "        startTime_pdf2img = datetime.datetime.now()  # 开始时间\n",
    "        self.imagePath = pdfPath.split('/')[-1]\n",
    "        self.imagePath = 'IMG/' + self.imagePath[:-4]\n",
    "        pdfDoc = fitz.open(pdfPath)\n",
    "        for pg in range(pdfDoc.pageCount):\n",
    "            page = pdfDoc[pg]\n",
    "            rotate = int(0)\n",
    "            # 每个尺寸的缩放系数为1.3，这将为我们生成分辨率提高2.6的图像。\n",
    "            # 此处若是不做设置，默认图片大小为：792X612, dpi=72\n",
    "            zoom_x = 2  # (1.33333333-->1056x816)   (2-->1584x1224)\n",
    "            zoom_y = 2\n",
    "            mat = fitz.Matrix(zoom_x, zoom_y).preRotate(rotate)\n",
    "            pix = page.getPixmap(matrix=mat, alpha=False)\n",
    "\n",
    "            if not path.exists(self.imagePath):  # 判断存放图片的文件夹是否存在\n",
    "                makedirs(self.imagePath )  # 若图片文件夹不存在就创建\n",
    "\n",
    "            pix.writePNG(self.imagePath +'/' + 'images_%s.png' % pg)  # 将图片写入指定的文件夹内\n",
    "\n",
    "        endTime_pdf2img = datetime.datetime.now()  # 结束时间\n",
    "        print('pdf2img时间=', (endTime_pdf2img - startTime_pdf2img).seconds)\n",
    "\n",
    "\n",
    "if __name__ == \"__main__\":\n",
    "    pdfPath = 'imgs/InvoiceColored.PDF'\n",
    "    Topdf = pdf2img()\n",
    "    Topdf.pyMuPDF_fitz(pdfPath)\n",
    "    print(Topdf.imagePath)\n",
    "\n"
   ]
  }
 ],
 "metadata": {
  "kernelspec": {
   "display_name": "Python 3",
   "language": "python",
   "name": "py35-paddle1.2.0"
  },
  "language_info": {
   "codemirror_mode": {
    "name": "ipython",
    "version": 3
   },
   "file_extension": ".py",
   "mimetype": "text/x-python",
   "name": "python",
   "nbconvert_exporter": "python",
   "pygments_lexer": "ipython3",
   "version": "3.7.4"
  }
 },
 "nbformat": 4,
 "nbformat_minor": 5
}
