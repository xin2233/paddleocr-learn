{
 "cells": [
  {
   "cell_type": "code",
   "execution_count": null,
   "id": "65e099be-ec88-4492-bd69-c31ee2d11293",
   "metadata": {
    "scrolled": true
   },
   "outputs": [
    {
     "ename": "",
     "evalue": "",
     "output_type": "error",
     "traceback": [
      "\u001b[1;31mRunning cells with 'Python 3.9.5 64-bit' requires ipykernel package.\n",
      "\u001b[1;31mRun the following command to install 'ipykernel' into the Python environment. \n",
      "\u001b[1;31mCommand: 'c:/Users/scsadmin/AppData/Local/Programs/Python/Python39/python.exe -m pip install ipykernel -U --user --force-reinstall'"
     ]
    }
   ],
   "source": [
    "!mkdir /home/aistudio/external-libraries"
   ]
  },
  {
   "cell_type": "code",
   "execution_count": null,
   "id": "e1c45ee9-6fe3-4acc-b2c4-607d61ed3b5e",
   "metadata": {
    "scrolled": true
   },
   "outputs": [
    {
     "ename": "",
     "evalue": "",
     "output_type": "error",
     "traceback": [
      "\u001b[1;31mRunning cells with 'Python 3.9.5 64-bit' requires ipykernel package.\n",
      "\u001b[1;31mRun the following command to install 'ipykernel' into the Python environment. \n",
      "\u001b[1;31mCommand: 'c:/Users/scsadmin/AppData/Local/Programs/Python/Python39/python.exe -m pip install ipykernel -U --user --force-reinstall'"
     ]
    }
   ],
   "source": [
    "\n",
    "# ! pip install --upgrade pip     #Building wheel for opencv-contrib-python 卡住的话，update一下pip\n",
    "\n",
    "\n",
    "!pip install paddlepaddle-gpu==2.2.2 -i https://mirror.baidu.com/pypi/simple  -t /home/aistudio/external-libraries"
   ]
  },
  {
   "cell_type": "code",
   "execution_count": null,
   "id": "a693f32c-e816-4a0c-952d-b5b789a642b9",
   "metadata": {
    "scrolled": true
   },
   "outputs": [],
   "source": [
    "# !pip install \"paddleocr>=2.0.1\" -i https://mirror.baidu.com/pypi/simple  -t /home/aistudio/external-libraries\n",
    "!pip install \"paddleocr==2.5\" -i https://mirror.baidu.com/pypi/simple  -t /home/aistudio/external-libraries"
   ]
  },
  {
   "cell_type": "code",
   "execution_count": 4,
   "id": "fc63e58f-b783-4ba3-8246-a36d2a7671e9",
   "metadata": {
    "execution": {
     "iopub.execute_input": "2023-02-06T03:28:45.115942Z",
     "iopub.status.busy": "2023-02-06T03:28:45.115017Z",
     "iopub.status.idle": "2023-02-06T03:28:48.149162Z",
     "shell.execute_reply": "2023-02-06T03:28:48.148181Z",
     "shell.execute_reply.started": "2023-02-06T03:28:45.115890Z"
    },
    "scrolled": true
   },
   "outputs": [
    {
     "name": "stdout",
     "output_type": "stream",
     "text": [
      "Looking in indexes: https://mirror.baidu.com/pypi/simple\r\n",
      "Collecting pymupdf==1.19.2\r\n",
      "  Using cached https://mirror.baidu.com/pypi/packages/00/e4/8ac4e9e17334fd72227f857896ac872fc503168f4077c16364ba57c9e30c/PyMuPDF-1.19.2-cp37-cp37m-manylinux_2_12_x86_64.manylinux2010_x86_64.whl (8.7 MB)\r\n",
      "Installing collected packages: pymupdf\r\n",
      "Successfully installed pymupdf-1.19.2\r\n",
      "\u001b[33mWARNING: Target directory /home/aistudio/external-libraries/PyMuPDF-1.19.2.dist-info already exists. Specify --upgrade to force replacement.\u001b[0m\u001b[33m\r\n",
      "\u001b[0m\u001b[33mWARNING: Target directory /home/aistudio/external-libraries/fitz already exists. Specify --upgrade to force replacement.\u001b[0m\u001b[33m\r\n",
      "\u001b[0m\r\n",
      "\u001b[1m[\u001b[0m\u001b[34;49mnotice\u001b[0m\u001b[1;39;49m]\u001b[0m\u001b[39;49m A new release of pip available: \u001b[0m\u001b[31;49m22.1.2\u001b[0m\u001b[39;49m -> \u001b[0m\u001b[32;49m23.0\u001b[0m\r\n",
      "\u001b[1m[\u001b[0m\u001b[34;49mnotice\u001b[0m\u001b[1;39;49m]\u001b[0m\u001b[39;49m To update, run: \u001b[0m\u001b[32;49mpip install --upgrade pip\u001b[0m\r\n"
     ]
    }
   ],
   "source": [
    "!pip install pymupdf -i https://mirror.baidu.com/pypi/simple  -t /home/aistudio/external-libraries\n",
    "\n",
    "# !pip install pymupdf==1.19.2 -i https://mirror.baidu.com/pypi/simple  -t /home/aistudio/external-libraries\n",
    "# 1.18.14，百度推荐此版本，不知道是否有效。\n",
    "# 如果是pageCount 的问题，可以尝试reset core and restart"
   ]
  },
  {
   "cell_type": "code",
   "execution_count": 5,
   "id": "21151f3b-5d9d-42f7-afc1-cf928453c281",
   "metadata": {
    "execution": {
     "iopub.execute_input": "2023-02-06T03:28:48.162142Z",
     "iopub.status.busy": "2023-02-06T03:28:48.161701Z",
     "iopub.status.idle": "2023-02-06T03:28:54.241324Z",
     "shell.execute_reply": "2023-02-06T03:28:54.240340Z",
     "shell.execute_reply.started": "2023-02-06T03:28:48.162118Z"
    },
    "scrolled": true
   },
   "outputs": [
    {
     "name": "stdout",
     "output_type": "stream",
     "text": [
      "Looking in indexes: https://pypi.tuna.tsinghua.edu.cn/simple\r\n",
      "Collecting PyMuPdf==1.18.14\r\n",
      "  Downloading https://pypi.tuna.tsinghua.edu.cn/packages/ef/43/84a502a902f5045108b6264a054ea1b50b479f247879c7a66c0d190be44e/PyMuPDF-1.18.14-cp37-cp37m-manylinux2010_x86_64.whl (6.4 MB)\r\n",
      "\u001b[2K     \u001b[90m━━━━━━━━━━━━━━━━━━━━━━━━━━━━━━━━━━━━━━━━\u001b[0m \u001b[32m6.4/6.4 MB\u001b[0m \u001b[31m2.0 MB/s\u001b[0m eta \u001b[36m0:00:00\u001b[0m00:01\u001b[0m00:01\u001b[0m\r\n",
      "\u001b[?25hInstalling collected packages: PyMuPdf\r\n",
      "Successfully installed PyMuPdf-1.18.14\r\n",
      "\u001b[33mWARNING: Target directory /home/aistudio/external-libraries/PyMuPDF-1.18.14.dist-info already exists. Specify --upgrade to force replacement.\u001b[0m\u001b[33m\r\n",
      "\u001b[0m\u001b[33mWARNING: Target directory /home/aistudio/external-libraries/fitz already exists. Specify --upgrade to force replacement.\u001b[0m\u001b[33m\r\n",
      "\u001b[0m\r\n",
      "\u001b[1m[\u001b[0m\u001b[34;49mnotice\u001b[0m\u001b[1;39;49m]\u001b[0m\u001b[39;49m A new release of pip available: \u001b[0m\u001b[31;49m22.1.2\u001b[0m\u001b[39;49m -> \u001b[0m\u001b[32;49m23.0\u001b[0m\r\n",
      "\u001b[1m[\u001b[0m\u001b[34;49mnotice\u001b[0m\u001b[1;39;49m]\u001b[0m\u001b[39;49m To update, run: \u001b[0m\u001b[32;49mpip install --upgrade pip\u001b[0m\r\n"
     ]
    }
   ],
   "source": [
    "# !pip install PyMuPdf==1.18.14 -t /home/aistudio/external-libraries"
   ]
  },
  {
   "cell_type": "code",
   "execution_count": null,
   "id": "4c2d17a1-717a-4f05-b5b6-957d9bd764c5",
   "metadata": {
    "scrolled": true
   },
   "outputs": [],
   "source": []
  }
 ],
 "metadata": {
  "kernelspec": {
   "display_name": "Python 3.9.5 64-bit",
   "language": "python",
   "name": "python3"
  },
  "language_info": {
   "codemirror_mode": {
    "name": "ipython",
    "version": 3
   },
   "file_extension": ".py",
   "mimetype": "text/x-python",
   "name": "python",
   "nbconvert_exporter": "python",
   "pygments_lexer": "ipython3",
   "version": "3.9.5"
  },
  "vscode": {
   "interpreter": {
    "hash": "c57c565c850ae99ca40e956daa7207bab72f4fab1fc4d48554a203ef30058f09"
   }
  }
 },
 "nbformat": 4,
 "nbformat_minor": 5
}
