{
 "cells": [
  {
   "cell_type": "code",
   "execution_count": null,
   "id": "9e7a4a87-5ccd-4671-a473-7902efe71067",
   "metadata": {},
   "outputs": [],
   "source": [
    "#先运行 库安装.ipynb\n",
    "\n",
    "import sys \n",
    "sys.path.append('/home/aistudio/external-libraries')\n",
    "\n",
    "from OCRInvoice import OCRInvoice\n",
    "from PDF2IMG import pdf2img\n",
    "from pandas import DataFrame\n",
    "from os import listdir\n",
    "\n",
    "def OCR_PDF(PDFPath,flag):\n",
    "    InvoiceInfo = DataFrame(columns=['文件地址','发票代码','发票号码','日期','金额（不含税）'])\n",
    "    Topdf = pdf2img()\n",
    "    Topdf.pyMuPDF_fitz(PDFPath)\n",
    "    print(Topdf.imagePath)\n",
    "    ocrAct = OCRInvoice()\n",
    "    ocrAct.HorL = flag\n",
    "    ocrAct.LowOrHigh()\n",
    "    itemNo = 1\n",
    "    for filename in listdir(Topdf.imagePath):\n",
    "        print(filename)\n",
    "        Invoicepath = Topdf.imagePath+'/'+filename\n",
    "        print(Invoicepath)\n",
    "        InvoiceInfo.loc[itemNo]=ocrAct.RunOCR(Invoicepath)\n",
    "        itemNo+=1\n",
    "    print(InvoiceInfo)\n",
    "    InvoiceInfo.to_excel(Topdf.imagePath.split('/')[-1]+'.xlsx')\n",
    "\n",
    "def OCR_IMGS(IMGPath,flag):\n",
    "    InvoiceInfo = DataFrame(columns=['文件地址','发票代码', '发票号码', '日期', '金额（不含税）'])\n",
    "    ocrAct = OCRInvoice()\n",
    "    ocrAct.HorL = flag\n",
    "    ocrAct.LowOrHigh()\n",
    "    itemNo = 1\n",
    "    for filename in listdir(IMGPath):\n",
    "        Invoicepath = IMGPath + '/' + filename\n",
    "        print(Invoicepath)\n",
    "        InvoiceInfo.loc[itemNo] = ocrAct.RunOCR(Invoicepath)\n",
    "        itemNo += 1\n",
    "    print(InvoiceInfo)\n",
    "    InvoiceInfo.to_excel(IMGPath.split('/')[-1] + '.xlsx')\n",
    "\n",
    "if __name__ == '__main__':\n",
    "    \n",
    "    #下面两个版本二选一\n",
    "\n",
    "    #方案1：对单个pdf文件（可包含多张发票）进行发票识别\n",
    "    PDFPath = './这里放pdf文件/InvoiceColored.PDF'      #将InvoiceColored.PDF修改为你上传的pdf文件\n",
    "    OCR_PDF(PDFPath,'标准')                             \n",
    "    \n",
    "    #方案2：对含有多张发票图片的文件夹进行发票识别\n",
    "    IMGPath = './这里放图片文件'                        #无须修改，直接将图片放到“这里放图片文件”\n",
    "    #OCR_IMGS(IMGPath,'标准')                           #  使用时将开头的#去掉"
   ]
  }
 ],
 "metadata": {
  "kernelspec": {
   "display_name": "Python 3",
   "language": "python",
   "name": "py35-paddle1.2.0"
  },
  "language_info": {
   "codemirror_mode": {
    "name": "ipython",
    "version": 3
   },
   "file_extension": ".py",
   "mimetype": "text/x-python",
   "name": "python",
   "nbconvert_exporter": "python",
   "pygments_lexer": "ipython3",
   "version": "3.7.4"
  }
 },
 "nbformat": 4,
 "nbformat_minor": 5
}
